{
 "cells": [
  {
   "cell_type": "code",
   "execution_count": null,
   "metadata": {},
   "outputs": [],
   "source": [
    "import numpy as np\n",
    "import pandas as pd\n",
    "import warnings\n",
    "warnings.filterwarnings('ignore')"
   ]
  },
  {
   "cell_type": "code",
   "execution_count": null,
   "metadata": {},
   "outputs": [],
   "source": [
    "dataset = pd.read_json('mergeBefore.json')"
   ]
  },
  {
   "cell_type": "code",
   "execution_count": null,
   "metadata": {},
   "outputs": [],
   "source": [
    "from pickle import APPEND\n",
    "i=0\n",
    "for i in range(len(dataset.index)):\n",
    "    new=dataset.CVE_Items[i]\n",
    "    if new['impact'] !={}:\n",
    "        id=new['cve'][\"CVE_data_meta\"][\"ID\"].lower()\n",
    "        drc=new['cve']['description']['description_data'][0]['value'].lower()\n",
    "\n",
    "        accessVector=new['impact']['baseMetricV2']['cvssV2']['accessVector']\n",
    "\n",
    "        accessComplexity=new['impact']['baseMetricV2']['cvssV2']['accessComplexity']\n",
    "        impact=new['impact']['baseMetricV2']['obtainAllPrivilege']\n",
    "\n",
    "        if accessVector=='LOCAL' and accessComplexity=='HIGH':\n",
    "            needPri=\"admin/root\"\n",
    "        elif accessVector=='LOCAL' and accessComplexity=='MEDIUM':\n",
    "            needPri=\"unknown\"\n",
    "        elif accessVector=='LOCAL' and accessComplexity=='LOW':\n",
    "            needPri=\"nonprivileged\"\n",
    "        elif accessVector=='NETWORK' and accessComplexity=='MEDIUM':\n",
    "            needPri=\"nonprivileged\"\n",
    "        elif accessVector=='NETWORK' and accessComplexity=='LOW':\n",
    "            needPri=\"access\"\n",
    "        elif accessVector=='NETWORK' and accessComplexity=='LOW':\n",
    "            needPri=\"access\"\n",
    "        elif accessVector=='NETWORK' and accessComplexity=='HIGH':\n",
    "            needPri=\"unknown\"\n",
    "    \n",
    "        if 'NETWORK' in accessVector:\n",
    "            actVector='remote'\n",
    "        else:\n",
    "            actVector='non-remote'\n",
    "        \n",
    "        if  new['impact']['baseMetricV2']['obtainAllPrivilege'] ==True:\n",
    "            impact=\"privileged-gained(rce)_admin/root\"\n",
    "\n",
    "        elif    new['impact']['baseMetricV2']['obtainUserPrivilege'] ==True:\n",
    "            impact=\"privileged-gained(rce)_nonprivileged\"\n",
    "\n",
    "        elif    new['impact']['baseMetricV2']['obtainOtherPrivilege'] ==True:\n",
    "            impact=\"privileged-gained(rce)_unknown\"\n",
    "        elif    new['impact']['baseMetricV2']['cvssV2']['confidentialityImpact']== 'NONE' and new['impact']['baseMetricV2']['cvssV2']['availabilityImpact']=='NONE':\n",
    "            impact=\"access\"\n",
    "        elif    new['impact']['baseMetricV2']['cvssV2']['confidentialityImpact']== 'NONE' and new['impact']['baseMetricV2']['cvssV2']['availabilityImpact']=='PARTIAL':\n",
    "            impact=\"dos\"\n",
    "        elif    new['impact']['baseMetricV2']['cvssV2']['confidentialityImpact']== 'NONE' and new['impact']['baseMetricV2']['cvssV2']['availabilityImpact']=='COMPLETE':\n",
    "            impact=\"dos\"  \n",
    "        elif    new['impact']['baseMetricV2']['cvssV2']['confidentialityImpact']== 'PARTIAL' and new['impact']['baseMetricV2']['cvssV2']['availabilityImpact']=='NONE':\n",
    "            impact=\"information-disclosure_other\"     \n",
    "        elif    new['impact']['baseMetricV2']['cvssV2']['confidentialityImpact']== 'PARTIAL' and new['impact']['baseMetricV2']['cvssV2']['availabilityImpact']=='PARTIAL':\n",
    "            impact=\"other\"  \n",
    "        elif    new['impact']['baseMetricV2']['cvssV2']['confidentialityImpact']== 'PARTIAL' and new['impact']['baseMetricV2']['cvssV2']['availabilityImpact']=='COMPLETE':\n",
    "            impact=\"dos\"   \n",
    "        elif    new['impact']['baseMetricV2']['cvssV2']['confidentialityImpact']== 'COMPLETE' and new['impact']['baseMetricV2']['cvssV2']['availabilityImpact']=='NONE':\n",
    "             if new['impact']['baseMetricV2']['cvssV2']['integrityImpact']== 'COMPLETE':\n",
    "                  impact='information-disclosure_local(credit)_admin/root'\n",
    "             elif   new['impact']['baseMetricV2']['cvssV2']['integrityImpact']== 'PARTIAL':\n",
    "                  impact=\"information-disclosure_local(credit)_nonprivileged\" \n",
    "             elif   new['impact']['baseMetricV2']['cvssV2']['integrityImpact']== 'NONE':\n",
    "                  impact='information-disclosure_local(credit)_unknown'\n",
    "        elif    new['impact']['baseMetricV2']['cvssV2']['confidentialityImpact']== 'COMPLETE' and new['impact']['baseMetricV2']['cvssV2']['availabilityImpact']=='NONE':\n",
    "            if new['impact']['baseMetricV2']['cvssV2']['integrityImpact']== 'COMPLETE':\n",
    "                  impact='information-disclosure_other-target(credit)_nonprivileged'\n",
    "            elif   new['impact']['baseMetricV2']['cvssV2']['integrityImpact']== 'PARTIAL':\n",
    "                  impact=\"information-disclosure_local(credit)_nonprivileged\" \n",
    "            elif   new['impact']['baseMetricV2']['cvssV2']['integrityImpact']== 'NONE':\n",
    "                  impact='information-disclosure_other-target(credit)_unknown'\n",
    "        elif    new['impact']['baseMetricV2']['cvssV2']['confidentialityImpact']== 'COMPLETE' and new['impact']['baseMetricV2']['cvssV2']['availabilityImpact']=='COMPLETE':\n",
    "            impact=\"dos\"\n",
    "        data={\"cve-number\":id,\"description\":drc,\"privilege-required\":needPri,\"attack-vector\":actVector,\"impact\":impact}\n",
    "        jsonData=json.dumps(data)\n",
    "        with open(\"merge.json\",\"a\")as write_file:\n",
    "            json.dump(data,write_file)\n",
    "            write_file.write('\\n')\n",
    "print('ok')"
   ]
  }
 ],
 "metadata": {
  "kernelspec": {
   "display_name": "Python 3.8.8 64-bit",
   "language": "python",
   "name": "python3"
  },
  "language_info": {
   "name": "python",
   "version": "3.8.8"
  },
  "orig_nbformat": 4,
  "vscode": {
   "interpreter": {
    "hash": "6bdeb77b626cecfe6ad3e6767eab1103093010f8ba146a5daa20383ee21b0fd4"
   }
  }
 },
 "nbformat": 4,
 "nbformat_minor": 2
}
